{
 "cells": [
  {
   "cell_type": "code",
   "execution_count": 24,
   "metadata": {},
   "outputs": [],
   "source": [
    "import pandas as pd\n",
    "import matplotlib.pyplot as plt\n",
    "import seaborn as sns"
   ]
  },
  {
   "cell_type": "code",
   "execution_count": 12,
   "metadata": {},
   "outputs": [],
   "source": [
    "restaurant_total_data = pd.read_csv('restaurant_total_data.csv')"
   ]
  },
  {
   "cell_type": "code",
   "execution_count": 13,
   "metadata": {},
   "outputs": [
    {
     "data": {
      "text/html": [
       "<div>\n",
       "<style scoped>\n",
       "    .dataframe tbody tr th:only-of-type {\n",
       "        vertical-align: middle;\n",
       "    }\n",
       "\n",
       "    .dataframe tbody tr th {\n",
       "        vertical-align: top;\n",
       "    }\n",
       "\n",
       "    .dataframe thead th {\n",
       "        text-align: right;\n",
       "    }\n",
       "</style>\n",
       "<table border=\"1\" class=\"dataframe\">\n",
       "  <thead>\n",
       "    <tr style=\"text-align: right;\">\n",
       "      <th></th>\n",
       "      <th>Unnamed: 0</th>\n",
       "      <th>Unnamed: 0.1</th>\n",
       "      <th>Name</th>\n",
       "      <th>City</th>\n",
       "      <th>Cuisine_style</th>\n",
       "      <th>Ranking</th>\n",
       "      <th>Rating</th>\n",
       "      <th>Price_range</th>\n",
       "      <th>Reviews_number</th>\n",
       "      <th>Reviews</th>\n",
       "    </tr>\n",
       "  </thead>\n",
       "  <tbody>\n",
       "    <tr>\n",
       "      <th>0</th>\n",
       "      <td>0</td>\n",
       "      <td>0</td>\n",
       "      <td>Martine of Martine's Table</td>\n",
       "      <td>Amsterdam</td>\n",
       "      <td>['French', 'Dutch', 'European']</td>\n",
       "      <td>1.0</td>\n",
       "      <td>5.0</td>\n",
       "      <td>medium</td>\n",
       "      <td>136.0</td>\n",
       "      <td>[['Just like home', 'A Warm Welcome to Wintry ...</td>\n",
       "    </tr>\n",
       "    <tr>\n",
       "      <th>1</th>\n",
       "      <td>1</td>\n",
       "      <td>1</td>\n",
       "      <td>De Silveren Spiegel</td>\n",
       "      <td>Amsterdam</td>\n",
       "      <td>['Dutch', 'European', 'Vegetarian Friendly', '...</td>\n",
       "      <td>2.0</td>\n",
       "      <td>4.5</td>\n",
       "      <td>high</td>\n",
       "      <td>812.0</td>\n",
       "      <td>[['Great food and staff', 'just perfect'], ['0...</td>\n",
       "    </tr>\n",
       "    <tr>\n",
       "      <th>2</th>\n",
       "      <td>2</td>\n",
       "      <td>2</td>\n",
       "      <td>La Rive</td>\n",
       "      <td>Amsterdam</td>\n",
       "      <td>['Mediterranean', 'French', 'International', '...</td>\n",
       "      <td>3.0</td>\n",
       "      <td>4.5</td>\n",
       "      <td>high</td>\n",
       "      <td>567.0</td>\n",
       "      <td>[['Satisfaction', 'Delicious old school restau...</td>\n",
       "    </tr>\n",
       "    <tr>\n",
       "      <th>3</th>\n",
       "      <td>3</td>\n",
       "      <td>3</td>\n",
       "      <td>Vinkeles</td>\n",
       "      <td>Amsterdam</td>\n",
       "      <td>['French', 'European', 'International', 'Conte...</td>\n",
       "      <td>4.0</td>\n",
       "      <td>5.0</td>\n",
       "      <td>high</td>\n",
       "      <td>564.0</td>\n",
       "      <td>[['True five star dinner', 'A superb evening o...</td>\n",
       "    </tr>\n",
       "    <tr>\n",
       "      <th>4</th>\n",
       "      <td>4</td>\n",
       "      <td>4</td>\n",
       "      <td>Librije's Zusje Amsterdam</td>\n",
       "      <td>Amsterdam</td>\n",
       "      <td>['Dutch', 'European', 'International', 'Vegeta...</td>\n",
       "      <td>5.0</td>\n",
       "      <td>4.5</td>\n",
       "      <td>high</td>\n",
       "      <td>316.0</td>\n",
       "      <td>[['Best meal.... EVER', 'super food experience...</td>\n",
       "    </tr>\n",
       "    <tr>\n",
       "      <th>...</th>\n",
       "      <td>...</td>\n",
       "      <td>...</td>\n",
       "      <td>...</td>\n",
       "      <td>...</td>\n",
       "      <td>...</td>\n",
       "      <td>...</td>\n",
       "      <td>...</td>\n",
       "      <td>...</td>\n",
       "      <td>...</td>\n",
       "      <td>...</td>\n",
       "    </tr>\n",
       "    <tr>\n",
       "      <th>125535</th>\n",
       "      <td>125535</td>\n",
       "      <td>8</td>\n",
       "      <td>Cafe De Casa</td>\n",
       "      <td>America/Los_Angeles</td>\n",
       "      <td>[{'key': '10348', 'name': 'Brazilian'}, {'key'...</td>\n",
       "      <td>-</td>\n",
       "      <td>4.5</td>\n",
       "      <td>-</td>\n",
       "      <td>-</td>\n",
       "      <td>-</td>\n",
       "    </tr>\n",
       "    <tr>\n",
       "      <th>125536</th>\n",
       "      <td>125536</td>\n",
       "      <td>9</td>\n",
       "      <td>Eight Am</td>\n",
       "      <td>America/Los_Angeles</td>\n",
       "      <td>[{'key': '9908', 'name': 'American'}, {'key': ...</td>\n",
       "      <td>-</td>\n",
       "      <td>4.5</td>\n",
       "      <td>-</td>\n",
       "      <td>-</td>\n",
       "      <td>-</td>\n",
       "    </tr>\n",
       "    <tr>\n",
       "      <th>125537</th>\n",
       "      <td>125537</td>\n",
       "      <td>10</td>\n",
       "      <td>B. Patisserie</td>\n",
       "      <td>America/Los_Angeles</td>\n",
       "      <td>[{'key': '10642', 'name': 'Cafe'}, {'key': '10...</td>\n",
       "      <td>-</td>\n",
       "      <td>4.5</td>\n",
       "      <td>-</td>\n",
       "      <td>-</td>\n",
       "      <td>-</td>\n",
       "    </tr>\n",
       "    <tr>\n",
       "      <th>125538</th>\n",
       "      <td>125538</td>\n",
       "      <td>11</td>\n",
       "      <td>Tacorea</td>\n",
       "      <td>America/Los_Angeles</td>\n",
       "      <td>[{'key': '5110', 'name': 'Mexican'}, {'key': '...</td>\n",
       "      <td>-</td>\n",
       "      <td>4.5</td>\n",
       "      <td>-</td>\n",
       "      <td>-</td>\n",
       "      <td>-</td>\n",
       "    </tr>\n",
       "    <tr>\n",
       "      <th>125539</th>\n",
       "      <td>125539</td>\n",
       "      <td>12</td>\n",
       "      <td>The New Spot On Polk</td>\n",
       "      <td>America/Los_Angeles</td>\n",
       "      <td>[]</td>\n",
       "      <td>-</td>\n",
       "      <td>4.5</td>\n",
       "      <td>-</td>\n",
       "      <td>-</td>\n",
       "      <td>-</td>\n",
       "    </tr>\n",
       "  </tbody>\n",
       "</table>\n",
       "<p>125540 rows × 10 columns</p>\n",
       "</div>"
      ],
      "text/plain": [
       "        Unnamed: 0  Unnamed: 0.1                        Name  \\\n",
       "0                0             0  Martine of Martine's Table   \n",
       "1                1             1         De Silveren Spiegel   \n",
       "2                2             2                     La Rive   \n",
       "3                3             3                    Vinkeles   \n",
       "4                4             4   Librije's Zusje Amsterdam   \n",
       "...            ...           ...                         ...   \n",
       "125535      125535             8                Cafe De Casa   \n",
       "125536      125536             9                    Eight Am   \n",
       "125537      125537            10               B. Patisserie   \n",
       "125538      125538            11                     Tacorea   \n",
       "125539      125539            12        The New Spot On Polk   \n",
       "\n",
       "                       City  \\\n",
       "0                 Amsterdam   \n",
       "1                 Amsterdam   \n",
       "2                 Amsterdam   \n",
       "3                 Amsterdam   \n",
       "4                 Amsterdam   \n",
       "...                     ...   \n",
       "125535  America/Los_Angeles   \n",
       "125536  America/Los_Angeles   \n",
       "125537  America/Los_Angeles   \n",
       "125538  America/Los_Angeles   \n",
       "125539  America/Los_Angeles   \n",
       "\n",
       "                                            Cuisine_style Ranking Rating  \\\n",
       "0                         ['French', 'Dutch', 'European']     1.0    5.0   \n",
       "1       ['Dutch', 'European', 'Vegetarian Friendly', '...     2.0    4.5   \n",
       "2       ['Mediterranean', 'French', 'International', '...     3.0    4.5   \n",
       "3       ['French', 'European', 'International', 'Conte...     4.0    5.0   \n",
       "4       ['Dutch', 'European', 'International', 'Vegeta...     5.0    4.5   \n",
       "...                                                   ...     ...    ...   \n",
       "125535  [{'key': '10348', 'name': 'Brazilian'}, {'key'...       -    4.5   \n",
       "125536  [{'key': '9908', 'name': 'American'}, {'key': ...       -    4.5   \n",
       "125537  [{'key': '10642', 'name': 'Cafe'}, {'key': '10...       -    4.5   \n",
       "125538  [{'key': '5110', 'name': 'Mexican'}, {'key': '...       -    4.5   \n",
       "125539                                                 []       -    4.5   \n",
       "\n",
       "       Price_range Reviews_number  \\\n",
       "0           medium          136.0   \n",
       "1             high          812.0   \n",
       "2             high          567.0   \n",
       "3             high          564.0   \n",
       "4             high          316.0   \n",
       "...            ...            ...   \n",
       "125535           -              -   \n",
       "125536           -              -   \n",
       "125537           -              -   \n",
       "125538           -              -   \n",
       "125539           -              -   \n",
       "\n",
       "                                                  Reviews  \n",
       "0       [['Just like home', 'A Warm Welcome to Wintry ...  \n",
       "1       [['Great food and staff', 'just perfect'], ['0...  \n",
       "2       [['Satisfaction', 'Delicious old school restau...  \n",
       "3       [['True five star dinner', 'A superb evening o...  \n",
       "4       [['Best meal.... EVER', 'super food experience...  \n",
       "...                                                   ...  \n",
       "125535                                                  -  \n",
       "125536                                                  -  \n",
       "125537                                                  -  \n",
       "125538                                                  -  \n",
       "125539                                                  -  \n",
       "\n",
       "[125540 rows x 10 columns]"
      ]
     },
     "execution_count": 13,
     "metadata": {},
     "output_type": "execute_result"
    }
   ],
   "source": [
    "restaurant_total_data"
   ]
  },
  {
   "cell_type": "markdown",
   "metadata": {},
   "source": [
    "### Mi propósito es encontrar la ciudad que más restaurantes tiene con reseñas en TripAdvisor, ver las puntuaciones de la gente con respecto a esos restaurantes y si en esa ciudad se come barato o caro"
   ]
  },
  {
   "cell_type": "markdown",
   "metadata": {},
   "source": [
    "#### 1. Con todos estos datos, ¿Cual es la ciudad que más restaurantes tiene con reseñas en TripAdvisor?"
   ]
  },
  {
   "cell_type": "code",
   "execution_count": 39,
   "metadata": {},
   "outputs": [
    {
     "data": {
      "text/plain": [
       "<AxesSubplot:>"
      ]
     },
     "execution_count": 39,
     "metadata": {},
     "output_type": "execute_result"
    },
    {
     "data": {
      "image/png": "[encoded data removed]",
      "text/plain": [
       "<Figure size 432x288 with 1 Axes>"
      ]
     },
     "metadata": {
      "needs_background": "light"
     },
     "output_type": "display_data"
    }
   ],
   "source": [
    "restaurant_count = restaurant_total_data.City.value_counts()\n",
    "restaurant_count.plot(kind='bar') "
   ]
  },
  {
   "cell_type": "markdown",
   "metadata": {},
   "source": [
    "#### 2. ¿Los restaurantes de esa ciudad tienen buenas calificaciones?"
   ]
  },
  {
   "cell_type": "code",
   "execution_count": 47,
   "metadata": {},
   "outputs": [
    {
     "data": {
      "text/plain": [
       "<AxesSubplot:>"
      ]
     },
     "execution_count": 47,
     "metadata": {},
     "output_type": "execute_result"
    },
    {
     "data": {
      "image/png": "[encoded data removed]",
      "text/plain": [
       "<Figure size 432x288 with 1 Axes>"
      ]
     },
     "metadata": {
      "needs_background": "light"
     },
     "output_type": "display_data"
    }
   ],
   "source": [
    "london_restaurants=restaurant_total_data[restaurant_total_data.City=='London']\n",
    "london_restaurant_ratings =london_restaurants.Rating.value_counts()\n",
    "london_restaurant_ratings.plot(kind='barh')"
   ]
  },
  {
   "cell_type": "markdown",
   "metadata": {},
   "source": [
    "#### 3. ¿Que podemos encontrar más en TripAdvisor si nos encontramos en esa ciudad, restaurantes caros, baratos o económicos?"
   ]
  },
  {
   "cell_type": "code",
   "execution_count": 46,
   "metadata": {},
   "outputs": [
    {
     "data": {
      "text/plain": [
       "<AxesSubplot:>"
      ]
     },
     "execution_count": 46,
     "metadata": {},
     "output_type": "execute_result"
    },
    {
     "data": {
      "image/png": "[encoded data removed]",
      "text/plain": [
       "<Figure size 432x288 with 1 Axes>"
      ]
     },
     "metadata": {
      "needs_background": "light"
     },
     "output_type": "display_data"
    }
   ],
   "source": [
    "london_restaurant_prices =london_restaurants.Price_range.value_counts()\n",
    "london_restaurant_prices[:1].plot(kind='barh')"
   ]
  }
 ],
 "metadata": {
  "kernelspec": {
   "display_name": "Python 3",
   "language": "python",
   "name": "python3"
  },
  "language_info": {
   "codemirror_mode": {
    "name": "ipython",
    "version": 3
   },
   "file_extension": ".py",
   "mimetype": "text/x-python",
   "name": "python",
   "nbconvert_exporter": "python",
   "pygments_lexer": "ipython3",
   "version": "3.8.6"
  }
 },
 "nbformat": 4,
 "nbformat_minor": 4
}
